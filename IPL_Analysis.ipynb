{
  "nbformat": 4,
  "nbformat_minor": 0,
  "metadata": {
    "colab": {
      "name": "IPL_Analysis.ipynb",
      "provenance": [],
      "collapsed_sections": [],
      "authorship_tag": "ABX9TyPr6EzpWkctQAfGVCIHSyvW",
      "include_colab_link": true
    },
    "kernelspec": {
      "name": "ir",
      "display_name": "R"
    }
  },
  "cells": [
    {
      "cell_type": "markdown",
      "metadata": {
        "id": "view-in-github",
        "colab_type": "text"
      },
      "source": [
        "<a href=\"https://colab.research.google.com/github/Abhishek4848/IPL-Match-Analysis/blob/main/IPL_Analysis.ipynb\" target=\"_parent\"><img src=\"https://colab.research.google.com/assets/colab-badge.svg\" alt=\"Open In Colab\"/></a>"
      ]
    },
    {
      "cell_type": "code",
      "metadata": {
        "id": "0nIRKe9ReieE"
      },
      "source": [
        "urlfile<-'https://raw.githubusercontent.com/Abhishek4848/IPL-Match-Analysis/main/matches.csv'\n",
        "df<-read.csv(url(urlfile))"
      ],
      "execution_count": 14,
      "outputs": []
    },
    {
      "cell_type": "code",
      "metadata": {
        "id": "Vq2HpsuQeomv",
        "outputId": "bfb1e183-6001-49e3-83c1-1e2660012d5e",
        "colab": {
          "base_uri": "https://localhost:8080/",
          "height": 414
        }
      },
      "source": [
        "head(df,5)"
      ],
      "execution_count": 27,
      "outputs": [
        {
          "output_type": "display_data",
          "data": {
            "text/plain": [
              "  id season city      date       team1                      \n",
              "1 1  2017   Hyderabad 2017-04-05 Sunrisers Hyderabad        \n",
              "2 2  2017   Pune      2017-04-06 Mumbai Indians             \n",
              "3 3  2017   Rajkot    2017-04-07 Gujarat Lions              \n",
              "4 4  2017   Indore    2017-04-08 Rising Pune Supergiant     \n",
              "5 5  2017   Bangalore 2017-04-08 Royal Challengers Bangalore\n",
              "  team2                       toss_winner                 toss_decision result\n",
              "1 Royal Challengers Bangalore Royal Challengers Bangalore field         normal\n",
              "2 Rising Pune Supergiant      Rising Pune Supergiant      field         normal\n",
              "3 Kolkata Knight Riders       Kolkata Knight Riders       field         normal\n",
              "4 Kings XI Punjab             Kings XI Punjab             field         normal\n",
              "5 Delhi Daredevils            Royal Challengers Bangalore bat           normal\n",
              "  dl_applied winner                      win_by_runs win_by_wickets\n",
              "1 0          Sunrisers Hyderabad         35           0            \n",
              "2 0          Rising Pune Supergiant       0           7            \n",
              "3 0          Kolkata Knight Riders        0          10            \n",
              "4 0          Kings XI Punjab              0           6            \n",
              "5 0          Royal Challengers Bangalore 15           0            \n",
              "  player_of_match venue                                     umpire1       \n",
              "1 Yuvraj Singh    Rajiv Gandhi International Stadium, Uppal AY Dandekar   \n",
              "2 SPD Smith       Maharashtra Cricket Association Stadium   A Nand Kishore\n",
              "3 CA Lynn         Saurashtra Cricket Association Stadium    Nitin Menon   \n",
              "4 GJ Maxwell      Holkar Cricket Stadium                    AK Chaudhary  \n",
              "5 KM Jadhav       M Chinnaswamy Stadium                                   \n",
              "  umpire2       umpire3\n",
              "1 NJ Llong             \n",
              "2 S Ravi               \n",
              "3 CK Nandan            \n",
              "4 C Shamshuddin        \n",
              "5                      "
            ],
            "text/latex": "A data.frame: 5 × 18\n\\begin{tabular}{r|llllllllllllllllll}\n  & id & season & city & date & team1 & team2 & toss\\_winner & toss\\_decision & result & dl\\_applied & winner & win\\_by\\_runs & win\\_by\\_wickets & player\\_of\\_match & venue & umpire1 & umpire2 & umpire3\\\\\n  & <int> & <int> & <chr> & <chr> & <chr> & <chr> & <chr> & <chr> & <chr> & <int> & <chr> & <int> & <int> & <chr> & <chr> & <chr> & <chr> & <chr>\\\\\n\\hline\n\t1 & 1 & 2017 & Hyderabad & 2017-04-05 & Sunrisers Hyderabad         & Royal Challengers Bangalore & Royal Challengers Bangalore & field & normal & 0 & Sunrisers Hyderabad         & 35 &  0 & Yuvraj Singh & Rajiv Gandhi International Stadium, Uppal & AY Dandekar    & NJ Llong      & \\\\\n\t2 & 2 & 2017 & Pune      & 2017-04-06 & Mumbai Indians              & Rising Pune Supergiant      & Rising Pune Supergiant      & field & normal & 0 & Rising Pune Supergiant      &  0 &  7 & SPD Smith    & Maharashtra Cricket Association Stadium   & A Nand Kishore & S Ravi        & \\\\\n\t3 & 3 & 2017 & Rajkot    & 2017-04-07 & Gujarat Lions               & Kolkata Knight Riders       & Kolkata Knight Riders       & field & normal & 0 & Kolkata Knight Riders       &  0 & 10 & CA Lynn      & Saurashtra Cricket Association Stadium    & Nitin Menon    & CK Nandan     & \\\\\n\t4 & 4 & 2017 & Indore    & 2017-04-08 & Rising Pune Supergiant      & Kings XI Punjab             & Kings XI Punjab             & field & normal & 0 & Kings XI Punjab             &  0 &  6 & GJ Maxwell   & Holkar Cricket Stadium                    & AK Chaudhary   & C Shamshuddin & \\\\\n\t5 & 5 & 2017 & Bangalore & 2017-04-08 & Royal Challengers Bangalore & Delhi Daredevils            & Royal Challengers Bangalore & bat   & normal & 0 & Royal Challengers Bangalore & 15 &  0 & KM Jadhav    & M Chinnaswamy Stadium                     &                &               & \\\\\n\\end{tabular}\n",
            "text/markdown": "\nA data.frame: 5 × 18\n\n| <!--/--> | id &lt;int&gt; | season &lt;int&gt; | city &lt;chr&gt; | date &lt;chr&gt; | team1 &lt;chr&gt; | team2 &lt;chr&gt; | toss_winner &lt;chr&gt; | toss_decision &lt;chr&gt; | result &lt;chr&gt; | dl_applied &lt;int&gt; | winner &lt;chr&gt; | win_by_runs &lt;int&gt; | win_by_wickets &lt;int&gt; | player_of_match &lt;chr&gt; | venue &lt;chr&gt; | umpire1 &lt;chr&gt; | umpire2 &lt;chr&gt; | umpire3 &lt;chr&gt; |\n|---|---|---|---|---|---|---|---|---|---|---|---|---|---|---|---|---|---|---|\n| 1 | 1 | 2017 | Hyderabad | 2017-04-05 | Sunrisers Hyderabad         | Royal Challengers Bangalore | Royal Challengers Bangalore | field | normal | 0 | Sunrisers Hyderabad         | 35 |  0 | Yuvraj Singh | Rajiv Gandhi International Stadium, Uppal | AY Dandekar    | NJ Llong      | <!----> |\n| 2 | 2 | 2017 | Pune      | 2017-04-06 | Mumbai Indians              | Rising Pune Supergiant      | Rising Pune Supergiant      | field | normal | 0 | Rising Pune Supergiant      |  0 |  7 | SPD Smith    | Maharashtra Cricket Association Stadium   | A Nand Kishore | S Ravi        | <!----> |\n| 3 | 3 | 2017 | Rajkot    | 2017-04-07 | Gujarat Lions               | Kolkata Knight Riders       | Kolkata Knight Riders       | field | normal | 0 | Kolkata Knight Riders       |  0 | 10 | CA Lynn      | Saurashtra Cricket Association Stadium    | Nitin Menon    | CK Nandan     | <!----> |\n| 4 | 4 | 2017 | Indore    | 2017-04-08 | Rising Pune Supergiant      | Kings XI Punjab             | Kings XI Punjab             | field | normal | 0 | Kings XI Punjab             |  0 |  6 | GJ Maxwell   | Holkar Cricket Stadium                    | AK Chaudhary   | C Shamshuddin | <!----> |\n| 5 | 5 | 2017 | Bangalore | 2017-04-08 | Royal Challengers Bangalore | Delhi Daredevils            | Royal Challengers Bangalore | bat   | normal | 0 | Royal Challengers Bangalore | 15 |  0 | KM Jadhav    | M Chinnaswamy Stadium                     | <!----> | <!----> | <!----> |\n\n",
            "text/html": [
              "<table>\n",
              "<caption>A data.frame: 5 × 18</caption>\n",
              "<thead>\n",
              "\t<tr><th></th><th scope=col>id</th><th scope=col>season</th><th scope=col>city</th><th scope=col>date</th><th scope=col>team1</th><th scope=col>team2</th><th scope=col>toss_winner</th><th scope=col>toss_decision</th><th scope=col>result</th><th scope=col>dl_applied</th><th scope=col>winner</th><th scope=col>win_by_runs</th><th scope=col>win_by_wickets</th><th scope=col>player_of_match</th><th scope=col>venue</th><th scope=col>umpire1</th><th scope=col>umpire2</th><th scope=col>umpire3</th></tr>\n",
              "\t<tr><th></th><th scope=col>&lt;int&gt;</th><th scope=col>&lt;int&gt;</th><th scope=col>&lt;chr&gt;</th><th scope=col>&lt;chr&gt;</th><th scope=col>&lt;chr&gt;</th><th scope=col>&lt;chr&gt;</th><th scope=col>&lt;chr&gt;</th><th scope=col>&lt;chr&gt;</th><th scope=col>&lt;chr&gt;</th><th scope=col>&lt;int&gt;</th><th scope=col>&lt;chr&gt;</th><th scope=col>&lt;int&gt;</th><th scope=col>&lt;int&gt;</th><th scope=col>&lt;chr&gt;</th><th scope=col>&lt;chr&gt;</th><th scope=col>&lt;chr&gt;</th><th scope=col>&lt;chr&gt;</th><th scope=col>&lt;chr&gt;</th></tr>\n",
              "</thead>\n",
              "<tbody>\n",
              "\t<tr><th scope=row>1</th><td>1</td><td>2017</td><td>Hyderabad</td><td>2017-04-05</td><td>Sunrisers Hyderabad        </td><td>Royal Challengers Bangalore</td><td>Royal Challengers Bangalore</td><td>field</td><td>normal</td><td>0</td><td>Sunrisers Hyderabad        </td><td>35</td><td> 0</td><td>Yuvraj Singh</td><td>Rajiv Gandhi International Stadium, Uppal</td><td>AY Dandekar   </td><td>NJ Llong     </td><td></td></tr>\n",
              "\t<tr><th scope=row>2</th><td>2</td><td>2017</td><td>Pune     </td><td>2017-04-06</td><td>Mumbai Indians             </td><td>Rising Pune Supergiant     </td><td>Rising Pune Supergiant     </td><td>field</td><td>normal</td><td>0</td><td>Rising Pune Supergiant     </td><td> 0</td><td> 7</td><td>SPD Smith   </td><td>Maharashtra Cricket Association Stadium  </td><td>A Nand Kishore</td><td>S Ravi       </td><td></td></tr>\n",
              "\t<tr><th scope=row>3</th><td>3</td><td>2017</td><td>Rajkot   </td><td>2017-04-07</td><td>Gujarat Lions              </td><td>Kolkata Knight Riders      </td><td>Kolkata Knight Riders      </td><td>field</td><td>normal</td><td>0</td><td>Kolkata Knight Riders      </td><td> 0</td><td>10</td><td>CA Lynn     </td><td>Saurashtra Cricket Association Stadium   </td><td>Nitin Menon   </td><td>CK Nandan    </td><td></td></tr>\n",
              "\t<tr><th scope=row>4</th><td>4</td><td>2017</td><td>Indore   </td><td>2017-04-08</td><td>Rising Pune Supergiant     </td><td>Kings XI Punjab            </td><td>Kings XI Punjab            </td><td>field</td><td>normal</td><td>0</td><td>Kings XI Punjab            </td><td> 0</td><td> 6</td><td>GJ Maxwell  </td><td>Holkar Cricket Stadium                   </td><td>AK Chaudhary  </td><td>C Shamshuddin</td><td></td></tr>\n",
              "\t<tr><th scope=row>5</th><td>5</td><td>2017</td><td>Bangalore</td><td>2017-04-08</td><td>Royal Challengers Bangalore</td><td>Delhi Daredevils           </td><td>Royal Challengers Bangalore</td><td>bat  </td><td>normal</td><td>0</td><td>Royal Challengers Bangalore</td><td>15</td><td> 0</td><td>KM Jadhav   </td><td>M Chinnaswamy Stadium                    </td><td>              </td><td>             </td><td></td></tr>\n",
              "</tbody>\n",
              "</table>\n"
            ]
          },
          "metadata": {
            "tags": []
          }
        }
      ]
    },
    {
      "cell_type": "code",
      "metadata": {
        "id": "xmhqIQNBe5SF",
        "outputId": "e11ca905-0949-4112-9dde-559c68bf9339",
        "colab": {
          "base_uri": "https://localhost:8080/",
          "height": 633
        }
      },
      "source": [
        "summary(df)"
      ],
      "execution_count": 17,
      "outputs": [
        {
          "output_type": "display_data",
          "data": {
            "text/plain": [
              "       id              season         city               date          \n",
              " Min.   :    1.0   Min.   :2008   Length:756         Length:756        \n",
              " 1st Qu.:  189.8   1st Qu.:2011   Class :character   Class :character  \n",
              " Median :  378.5   Median :2013   Mode  :character   Mode  :character  \n",
              " Mean   : 1792.2   Mean   :2013                                        \n",
              " 3rd Qu.:  567.2   3rd Qu.:2016                                        \n",
              " Max.   :11415.0   Max.   :2019                                        \n",
              "    team1              team2           toss_winner        toss_decision     \n",
              " Length:756         Length:756         Length:756         Length:756        \n",
              " Class :character   Class :character   Class :character   Class :character  \n",
              " Mode  :character   Mode  :character   Mode  :character   Mode  :character  \n",
              "                                                                            \n",
              "                                                                            \n",
              "                                                                            \n",
              "    result            dl_applied         winner           win_by_runs    \n",
              " Length:756         Min.   :0.00000   Length:756         Min.   :  0.00  \n",
              " Class :character   1st Qu.:0.00000   Class :character   1st Qu.:  0.00  \n",
              " Mode  :character   Median :0.00000   Mode  :character   Median :  0.00  \n",
              "                    Mean   :0.02513                      Mean   : 13.28  \n",
              "                    3rd Qu.:0.00000                      3rd Qu.: 19.00  \n",
              "                    Max.   :1.00000                      Max.   :146.00  \n",
              " win_by_wickets   player_of_match       venue             umpire1         \n",
              " Min.   : 0.000   Length:756         Length:756         Length:756        \n",
              " 1st Qu.: 0.000   Class :character   Class :character   Class :character  \n",
              " Median : 4.000   Mode  :character   Mode  :character   Mode  :character  \n",
              " Mean   : 3.351                                                           \n",
              " 3rd Qu.: 6.000                                                           \n",
              " Max.   :10.000                                                           \n",
              "   umpire2            umpire3         \n",
              " Length:756         Length:756        \n",
              " Class :character   Class :character  \n",
              " Mode  :character   Mode  :character  \n",
              "                                      \n",
              "                                      \n",
              "                                      "
            ]
          },
          "metadata": {
            "tags": []
          }
        }
      ]
    },
    {
      "cell_type": "code",
      "metadata": {
        "id": "c_6ZR6PEgUIM",
        "outputId": "c1c9efa9-527e-4e6a-a3a5-2d76656193a1",
        "colab": {
          "base_uri": "https://localhost:8080/",
          "height": 437
        }
      },
      "source": [
        "barplot(table(df$winner),xlab = \"Teams\", ylab=\"No. of Victories\")"
      ],
      "execution_count": 29,
      "outputs": [
        {
          "output_type": "display_data",
          "data": {
            "image/png": "[encoded data removed]",
            "text/plain": [
              "plot without title"
            ]
          },
          "metadata": {
            "tags": [],
            "image/png": {
              "width": 420,
              "height": 420
            }
          }
        }
      ]
    },
    {
      "cell_type": "code",
      "metadata": {
        "id": "z0P3pc02hDWA"
      },
      "source": [
        ""
      ],
      "execution_count": 25,
      "outputs": []
    }
  ]
}